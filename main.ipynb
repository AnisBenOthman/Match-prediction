{
 "cells": [
  {
   "cell_type": "code",
   "execution_count": 1,
   "id": "b85583fb",
   "metadata": {},
   "outputs": [
    {
     "name": "stdout",
     "output_type": "stream",
     "text": [
      "xgboost version: 2.1.1\n",
      "scikit-learn version: 1.6.1\n"
     ]
    }
   ],
   "source": [
    "import xgboost\n",
    "import sklearn\n",
    "\n",
    "print(\"xgboost version:\", xgboost.__version__)\n",
    "print(\"scikit-learn version:\", sklearn.__version__)\n"
   ]
  },
  {
   "cell_type": "code",
   "execution_count": null,
   "id": "16326d3b",
   "metadata": {},
   "outputs": [],
   "source": [
    "import pandas as pd \n",
    "import matplotlib.pyplot as plt\n",
    "import numpy as np\n",
    "import seaborn as sns\n",
    "from datetime import datetime as dt\n",
    "import itertools\n",
    "\n",
    "%matplotlib inline"
   ]
  },
  {
   "cell_type": "markdown",
   "id": "d7d4576f",
   "metadata": {},
   "source": [
    "Reading data from the CSV into a dataframe"
   ]
  },
  {
   "cell_type": "code",
   "execution_count": null,
   "id": "a1dbc88c",
   "metadata": {},
   "outputs": [],
   "source": [
    "folder='./Datasets/'\n",
    "raw_data_1 = pd.read_csv(folder+'2000-01.csv')\n",
    "raw_data_2 = pd.read_csv(folder+'2001-02.csv')\n",
    "raw_data_3 = pd.read_csv(folder+'2002-03.csv') \n",
    "raw_data_4 = pd.read_csv(folder+'2003-04.csv')\n",
    "raw_data_5 = pd.read_csv(folder+'2004-05.csv')\n",
    "raw_data_6 = pd.read_csv(folder+'2005-06.csv')\n",
    "raw_data_7 = pd.read_csv(folder+'2006-07.csv')\n",
    "raw_data_8 = pd.read_csv(folder+'2007-08.csv')\n",
    "raw_data_9 = pd.read_csv(folder+'2008-09.csv')\n",
    "raw_data_10 = pd.read_csv(folder+'2009-10.csv')\n",
    "raw_data_11 = pd.read_csv(folder+'2010-11.csv')\n",
    "raw_data_12 = pd.read_csv(folder+'2011-12.csv')\n",
    "raw_data_13 = pd.read_csv(folder+'2012-13.csv')\n",
    "raw_data_14 = pd.read_csv(folder+'2013-14.csv')\n",
    "raw_data_15 = pd.read_csv(folder+'2014-15.csv')\n",
    "raw_data_16 = pd.read_csv(folder+'2015-16.csv')\n",
    "raw_data_17 = pd.read_csv(folder+'2016-17.csv')\n",
    "raw_data_18 = pd.read_csv(folder+'2017-18.csv')\n",
    "raw_data_19 = pd.read_csv(folder+'2018-19.csv')\n",
    "raw_data_20 = pd.read_csv(folder+'2019-20.csv')\n",
    "raw_data_21 = pd.read_csv(folder+'2020-2021.csv')\n",
    "raw_data_22 = pd.read_csv(folder+'2021-2022.csv')"
   ]
  },
  {
   "cell_type": "code",
   "execution_count": null,
   "id": "40f27a95",
   "metadata": {},
   "outputs": [],
   "source": [
    "print(len(raw_data_19))\n"
   ]
  },
  {
   "cell_type": "code",
   "execution_count": null,
   "id": "de2bc105",
   "metadata": {},
   "outputs": [],
   "source": [
    "#Gets all the statistics related to the gameplay\n",
    "columns = ['Date', 'HomeTeam', 'AwayTeam', 'FTHG', 'FTAG', 'FTR']\n",
    "playing_stats_1 = raw_data_1[columns]\n",
    "playing_stats_2 = raw_data_2[columns]\n",
    "playing_stats_3 = raw_data_3[columns]\n",
    "playing_stats_4 = raw_data_4[columns]\n",
    "playing_stats_5 = raw_data_5[columns]\n",
    "playing_stats_6 = raw_data_6[columns]\n",
    "playing_stats_7 = raw_data_7[columns]\n",
    "playing_stats_8 = raw_data_8[columns]\n",
    "playing_stats_9 = raw_data_9[columns]\n",
    "playing_stats_10 = raw_data_10[columns]\n",
    "playing_stats_11 = raw_data_11[columns]\n",
    "playing_stats_12 = raw_data_12[columns]\n",
    "playing_stats_13 = raw_data_13[columns]\n",
    "playing_stats_14 = raw_data_14[columns]\n",
    "playing_stats_15 = raw_data_15[columns]\n",
    "playing_stats_16 = raw_data_16[columns]\n",
    "playing_stats_17 = raw_data_17[columns]\n",
    "playing_stats_18 = raw_data_18[columns]\n",
    "#playing_stats_19 = raw_data_19[columns]\n",
    "playing_stats_20 = raw_data_20[columns]\n",
    "playing_stats_21 = raw_data_21[columns]\n",
    "playing_stats_22 = raw_data_22[columns]\n"
   ]
  },
  {
   "cell_type": "code",
   "execution_count": null,
   "id": "252e0813",
   "metadata": {},
   "outputs": [],
   "source": [
    "playing_stats_1 "
   ]
  },
  {
   "cell_type": "code",
   "execution_count": null,
   "id": "2753b065",
   "metadata": {},
   "outputs": [],
   "source": [
    "#Gets the goals agg arranged by teams\n",
    "def get_goals_agg(playing_stats):\n",
    "    #Created a dictionary with the teams as keys and the goals scored as values\n",
    "    teams = {}\n",
    "    for i in playing_stats.groupby('HomeTeam').mean(numeric_only=True).T.columns:\n",
    "        teams[i] = []\n",
    "    for i in range(len(playing_stats)):\n",
    "        teams[playing_stats['HomeTeam'][i]].append(playing_stats['FTHG'][i])\n",
    "        teams[playing_stats['AwayTeam'][i]].append(playing_stats['FTAG'][i])\n",
    "    # Create a dataframe for goals scored where rows are teams and cols are matchweek.\n",
    "    GoalsScored = pd.DataFrame(data=teams, index = [i for i in range(1,39)]).T\n",
    "    GoalsScored[0] = 0\n",
    "    # Aggregate to get uptil that point\n",
    "    for i in range(2,39):\n",
    "        GoalsScored[i] = GoalsScored[i] + GoalsScored[i-1]\n",
    "    return GoalsScored"
   ]
  },
  {
   "cell_type": "code",
   "execution_count": null,
   "id": "c9d450b0",
   "metadata": {},
   "outputs": [],
   "source": [
    "def get_home_goals_19(playing_stats):\n",
    "    \"\"\"\n",
    "    Returns individual home match goals for each team with their opponents.\n",
    "    \n",
    "    Parameters:\n",
    "    -----------\n",
    "    playing_stats : DataFrame\n",
    "        DataFrame containing match statistics with columns:\n",
    "        - HomeTeam: home team name\n",
    "        - AwayTeam: away team name\n",
    "        - FTHG: full time home goals\n",
    "        - Date: match date (optional, used for sorting)\n",
    "    \n",
    "    Returns:\n",
    "    --------\n",
    "    DataFrame\n",
    "        DataFrame containing home matches with columns:\n",
    "        - HomeTeam: home team name\n",
    "        - AwayTeam: away team name\n",
    "        - Goals: goals scored by home team\n",
    "    \"\"\"\n",
    "    # Verify required columns\n",
    "    required_cols = {'HomeTeam', 'AwayTeam', 'FTHG'}\n",
    "    if not required_cols.issubset(playing_stats.columns):\n",
    "        raise ValueError(\"DataFrame must contain 'HomeTeam', 'AwayTeam', and 'FTHG' columns\")\n",
    "    \n",
    "    # Create a copy and sort by date if available\n",
    "    stats = playing_stats.copy()\n",
    "    if 'Date' in stats.columns:\n",
    "        stats = stats.sort_values('Date')\n",
    "    \n",
    "    # Create lists to store the results\n",
    "    home_teams = []\n",
    "    away_teams = []\n",
    "    goals = []\n",
    "    \n",
    "    # Process matches for each team\n",
    "    for team in stats['HomeTeam'].unique():\n",
    "        # Get home matches for this team\n",
    "        team_matches = stats[stats['HomeTeam'] == team].head(19)\n",
    "        \n",
    "        # Add match details to lists\n",
    "        for _, match in team_matches.iterrows():\n",
    "            home_teams.append(match['HomeTeam'])\n",
    "            away_teams.append(match['AwayTeam'])\n",
    "            goals.append(match['FTHG'])\n",
    "    \n",
    "    # Create and return the DataFrame\n",
    "    result_df = pd.DataFrame({\n",
    "        'HomeTeam': home_teams,\n",
    "        'AwayTeam': away_teams,\n",
    "        'Goals': goals\n",
    "    })\n",
    "    \n",
    "    return result_df"
   ]
  },
  {
   "cell_type": "code",
   "execution_count": null,
   "id": "43e2a5c4",
   "metadata": {},
   "outputs": [],
   "source": [
    "# Test de la fonction avec playing_stats_1\n",
    "test_df = get_home_goals_19(playing_stats_1)\n",
    "# Filter matches where Man City is the home team\n",
    "man_city_home = test_df[test_df['HomeTeam'] == 'Man City']\n",
    "print(\"Manchester City's home matches:\")\n",
    "print(man_city_home)"
   ]
  },
  {
   "cell_type": "code",
   "execution_count": null,
   "id": "62e096bc",
   "metadata": {},
   "outputs": [],
   "source": [
    "def get_goals_conceded(playing_stat):\n",
    "    # Create a dictionary with team names as keys\n",
    "    teams = {}\n",
    "    for i in playing_stat.groupby('HomeTeam').mean(numeric_only=True).T.columns:\n",
    "        teams[i] = []\n",
    "    \n",
    "    # the value corresponding to keys is a list containing the match location.\n",
    "    for i in range(len(playing_stat)):\n",
    "        ATGC = playing_stat.iloc[i]['FTHG']\n",
    "        HTGC = playing_stat.iloc[i]['FTAG']\n",
    "        teams[playing_stat.iloc[i].HomeTeam].append(HTGC)\n",
    "        teams[playing_stat.iloc[i].AwayTeam].append(ATGC)\n",
    "    \n",
    "    # Create a dataframe for goals scored where rows are teams and cols are matchweek.\n",
    "    GoalsConceded = pd.DataFrame(data=teams, index = [i for i in range(1,39)]).T\n",
    "    GoalsConceded[0] = 0\n",
    "    # Aggregate to get uptil that point\n",
    "    for i in range(2,39):\n",
    "        GoalsConceded[i] = GoalsConceded[i] + GoalsConceded[i-1]\n",
    "    return GoalsConceded"
   ]
  },
  {
   "cell_type": "code",
   "execution_count": null,
   "id": "c292b403",
   "metadata": {},
   "outputs": [],
   "source": [
    "def get_gss(playing_stat):\n",
    "    GC = get_goals_conceded(playing_stat)\n",
    "    GS = get_goals_agg(playing_stat)\n",
    "   \n",
    "    j = 0\n",
    "    HTGS = []\n",
    "    ATGS = []\n",
    "    HTGC = []\n",
    "    ATGC = []\n",
    "\n",
    "    for i in range(380):\n",
    "        ht = playing_stat.iloc[i].HomeTeam\n",
    "        at = playing_stat.iloc[i].AwayTeam\n",
    "        HTGS.append(GS.loc[ht][j])\n",
    "        ATGS.append(GS.loc[at][j])\n",
    "        HTGC.append(GC.loc[ht][j])\n",
    "        ATGC.append(GC.loc[at][j])\n",
    "        \n",
    "        if ((i + 1)% 10) == 0:\n",
    "            j = j + 1\n",
    "    playing_stat = playing_stat.copy()\n",
    "  \n",
    "    playing_stat['HTGS'] = HTGS\n",
    "    playing_stat['ATGS'] = ATGS\n",
    "    playing_stat['HTGC'] = HTGC\n",
    "    playing_stat['ATGC'] = ATGC\n",
    "    \n",
    "    return playing_stat\n"
   ]
  },
  {
   "cell_type": "code",
   "execution_count": null,
   "id": "5033c1e9",
   "metadata": {},
   "outputs": [],
   "source": [
    "playing_stats_1 = get_gss(playing_stats_1)\n",
    "playing_stats_2 = get_gss(playing_stats_2)\n",
    "playing_stats_3 = get_gss(playing_stats_3)\n",
    "playing_stats_4 = get_gss(playing_stats_4)\n",
    "playing_stats_5 = get_gss(playing_stats_5)\n",
    "playing_stats_6 = get_gss(playing_stats_6)\n",
    "playing_stats_7 = get_gss(playing_stats_7)\n",
    "playing_stats_8 = get_gss(playing_stats_8)\n",
    "playing_stats_9 = get_gss(playing_stats_9)\n",
    "playing_stats_10 = get_gss(playing_stats_10)\n",
    "playing_stats_11 = get_gss(playing_stats_11)\n",
    "playing_stats_12 = get_gss(playing_stats_12)\n",
    "playing_stats_13 = get_gss(playing_stats_13)\n",
    "playing_stats_14 = get_gss(playing_stats_14)\n",
    "playing_stats_15 = get_gss(playing_stats_15)\n",
    "playing_stats_16 = get_gss(playing_stats_16)\n",
    "playing_stats_17 = get_gss(playing_stats_17)\n",
    "playing_stats_18 = get_gss(playing_stats_18)\n",
    "#playing_stats_19 = get_gss(playing_stats_19)\n",
    "#playing_stats_20 = get_gss(playing_stats_20)\n",
    "playing_stats_21 = get_gss(playing_stats_21)\n",
    "playing_stats_22 = get_gss(playing_stats_22)"
   ]
  },
  {
   "cell_type": "code",
   "execution_count": null,
   "id": "6a451e11",
   "metadata": {},
   "outputs": [],
   "source": [
    "playing_stats_1"
   ]
  },
  {
   "cell_type": "code",
   "execution_count": null,
   "id": "e13ac943",
   "metadata": {},
   "outputs": [],
   "source": [
    "def get_points(result):\n",
    "    if result == 'W':\n",
    "        return 3\n",
    "    elif result == 'D':\n",
    "        return 1\n",
    "    else:\n",
    "        return 0"
   ]
  },
  {
   "cell_type": "code",
   "execution_count": null,
   "id": "a090652f",
   "metadata": {},
   "outputs": [],
   "source": [
    "def get_cuml_points(matchres):\n",
    "    matchres_points = matchres.apply(lambda col: col.map(get_points))\n",
    "    \n",
    "    for i in range(2, 39):\n",
    "        matchres_points[i] = matchres_points[i] + matchres_points[i - 1]\n",
    "    \n",
    "    matchres_points.insert(loc=0, column=0, value=[0] * matchres.shape[0])\n",
    "    return matchres_points\n"
   ]
  },
  {
   "cell_type": "code",
   "execution_count": null,
   "id": "350a8bd3",
   "metadata": {},
   "outputs": [],
   "source": [
    "def get_matchres(playing_stat):\n",
    "    # Create a dictionary with team names as keys\n",
    "    teams = {}\n",
    "    for i in playing_stat.groupby('HomeTeam').mean(numeric_only=True).T.columns:\n",
    "        teams[i] = []\n",
    "\n",
    "    # the value corresponding to keys is a list containing the match result\n",
    "    for i in range(len(playing_stat)):\n",
    "        if playing_stat.iloc[i].FTR == 'H':\n",
    "            teams[playing_stat.iloc[i].HomeTeam].append('W')\n",
    "            teams[playing_stat.iloc[i].AwayTeam].append('L')\n",
    "        elif playing_stat.iloc[i].FTR == 'A':\n",
    "            teams[playing_stat.iloc[i].AwayTeam].append('W')\n",
    "            teams[playing_stat.iloc[i].HomeTeam].append('L')\n",
    "        else:\n",
    "            teams[playing_stat.iloc[i].AwayTeam].append('D')\n",
    "            teams[playing_stat.iloc[i].HomeTeam].append('D')\n",
    "            \n",
    "    return pd.DataFrame(data=teams, index = [i for i in range(1,39)]).T"
   ]
  },
  {
   "cell_type": "code",
   "execution_count": null,
   "id": "29a7017b",
   "metadata": {},
   "outputs": [],
   "source": [
    "matchres = get_matchres(playing_stats_1)\n",
    "cum_pts = get_cuml_points(matchres)\n",
    "cum_pts"
   ]
  },
  {
   "cell_type": "code",
   "execution_count": null,
   "id": "0c49b8fa",
   "metadata": {},
   "outputs": [],
   "source": [
    "get_matchres(playing_stats_1)"
   ]
  },
  {
   "cell_type": "code",
   "execution_count": null,
   "id": "be022b92",
   "metadata": {},
   "outputs": [],
   "source": [
    "def get_agg_points(playing_stat):\n",
    "    matchres = get_matchres(playing_stat)\n",
    "    cum_pts = get_cuml_points(matchres)\n",
    "    HTP = []\n",
    "    ATP = []\n",
    "    j = 0\n",
    "    for i in range(380):\n",
    "        ht = playing_stat.iloc[i].HomeTeam\n",
    "        at = playing_stat.iloc[i].AwayTeam\n",
    "        HTP.append(cum_pts.loc[ht][j])\n",
    "        ATP.append(cum_pts.loc[at][j])\n",
    "\n",
    "        if ((i + 1)% 10) == 0:\n",
    "            j = j + 1\n",
    "    playing_stat = playing_stat.copy()\n",
    "    playing_stat['HTP'] = HTP\n",
    "    playing_stat['ATP'] = ATP\n",
    "    return playing_stat"
   ]
  },
  {
   "cell_type": "code",
   "execution_count": null,
   "id": "f1f0e07c",
   "metadata": {},
   "outputs": [],
   "source": [
    "playing_stats_1 = get_agg_points(playing_stats_1)\n",
    "playing_stats_2 = get_agg_points(playing_stats_2)\n",
    "playing_stats_3 = get_agg_points(playing_stats_3)\n",
    "playing_stats_4 = get_agg_points(playing_stats_4)\n",
    "playing_stats_5 = get_agg_points(playing_stats_5)\n",
    "playing_stats_6 = get_agg_points(playing_stats_6)\n",
    "playing_stats_7 = get_agg_points(playing_stats_7)\n",
    "playing_stats_8 = get_agg_points(playing_stats_8)\n",
    "playing_stats_9 = get_agg_points(playing_stats_9)\n",
    "playing_stats_10 = get_agg_points(playing_stats_10)\n",
    "playing_stats_11 = get_agg_points(playing_stats_11)\n",
    "playing_stats_12 = get_agg_points(playing_stats_12)\n",
    "playing_stats_13 = get_agg_points(playing_stats_13)\n",
    "playing_stats_14 = get_agg_points(playing_stats_14)\n",
    "playing_stats_15 = get_agg_points(playing_stats_15)\n",
    "playing_stats_16 = get_agg_points(playing_stats_16)\n",
    "playing_stats_17 = get_agg_points(playing_stats_17)\n",
    "playing_stats_18 = get_agg_points(playing_stats_18)\n",
    "playing_stats_21 =get_agg_points(playing_stats_21)\n",
    "playing_stats_22= get_agg_points(playing_stats_22)"
   ]
  },
  {
   "cell_type": "code",
   "execution_count": null,
   "id": "500e5f86",
   "metadata": {},
   "outputs": [],
   "source": [
    "playing_stats_1"
   ]
  },
  {
   "cell_type": "markdown",
   "id": "dbd02eaf",
   "metadata": {},
   "source": [
    "The function creates a form summary (like \"WWDLD\") for each team by aggregating the results over the last num games before each matchday."
   ]
  },
  {
   "cell_type": "code",
   "execution_count": null,
   "id": "2f4ae190",
   "metadata": {},
   "outputs": [],
   "source": [
    "# `playing_stat`: a DataFrame containing football match stats\n",
    "# `num`: how many previous matchdays to include in the form\n",
    "def get_form(playing_stat, num):\n",
    "    # Get match results first\n",
    "    form = get_matchres(playing_stat)\n",
    "    form_final = form.copy()\n",
    "    \n",
    "    # For each matchday\n",
    "    for i in range(1, 39):\n",
    "        # For each team\n",
    "        for team in form_final.index:\n",
    "            # Get form for previous num matches\n",
    "            form_str = ''\n",
    "            for j in range(min(num, i)):  # Only look at available previous matches\n",
    "                if i-j-1 >= 0:  # Check if the previous match exists\n",
    "                    form_str = form.loc[team, i-j] + form_str  # Prepend to keep most recent last\n",
    "                else:\n",
    "                    form_str = 'M' + form_str  # Missing data for unavailable matches\n",
    "            \n",
    "            # Store the form string\n",
    "            form_final.loc[team, i] = form_str\n",
    "            \n",
    "    return form_final"
   ]
  },
  {
   "cell_type": "code",
   "execution_count": null,
   "id": "ba2cdc39",
   "metadata": {},
   "outputs": [],
   "source": [
    "get_form(playing_stats_1,3)"
   ]
  },
  {
   "cell_type": "markdown",
   "id": "fda57e0c",
   "metadata": {},
   "source": [
    "This function: Adds two new columns to playing_stat:\n",
    "\n",
    "HMn: home team’s form on matchday n (most recent result from last num games)\n",
    "\n",
    "AMn: away team’s form on matchday n (same)"
   ]
  },
  {
   "cell_type": "code",
   "execution_count": null,
   "id": "22b85820",
   "metadata": {},
   "outputs": [],
   "source": [
    "def add_form(playing_stat, num):\n",
    "    # Create a copy of the DataFrame to avoid modifying the original\n",
    "    playing_stat = playing_stat.copy()\n",
    "    \n",
    "    # Remove any existing form columns for this number\n",
    "    form_cols = [f'HM{num}', f'AM{num}']\n",
    "    playing_stat = playing_stat.drop(columns=form_cols, errors='ignore')\n",
    "    \n",
    "    # Get the form data\n",
    "    form = get_form(playing_stat, num)\n",
    "    h = []  # Home team form\n",
    "    a = []  # Away team form\n",
    "    \n",
    "    # Process each match\n",
    "    for i in range(380):\n",
    "        ht = playing_stat.iloc[i].HomeTeam\n",
    "        at = playing_stat.iloc[i].AwayTeam\n",
    "        week = (i // 10) + 1  # Calculate the match week (1-38)\n",
    "        \n",
    "        # Get form strings for both teams\n",
    "        if week <= num:\n",
    "            # Not enough previous matches for full history\n",
    "            h.append('M')\n",
    "            a.append('M')\n",
    "        else:\n",
    "            # Get the last character (most recent result) from form string\n",
    "            ht_form = form.loc[ht][week]\n",
    "            at_form = form.loc[at][week]\n",
    "            h.append(ht_form[-1] if len(ht_form) > 0 else 'M')\n",
    "            a.append(at_form[-1] if len(at_form) > 0 else 'M')\n",
    "    \n",
    "    # Add the form columns\n",
    "    playing_stat[f'HM{num}'] = h\n",
    "    playing_stat[f'AM{num}'] = a\n",
    "    \n",
    "    return playing_stat"
   ]
  },
  {
   "cell_type": "code",
   "execution_count": null,
   "id": "2d595144",
   "metadata": {},
   "outputs": [],
   "source": [
    "# Test add_form uniquement avec num=3\n",
    "test_df = add_form(playing_stats_1, 2)\n",
    "test_df \n",
    "\n"
   ]
  },
  {
   "cell_type": "code",
   "execution_count": null,
   "id": "4aacabd6",
   "metadata": {},
   "outputs": [],
   "source": [
    "\n",
    "# Function to add form history features\n",
    "def add_form_df(playing_statistics):\n",
    "    \"\"\"\n",
    "    Add form history columns to the dataframe showing last 5 matches for each team\n",
    "    HM1-HM5: Home team's form for last 5 matches (most recent to oldest)\n",
    "    AM1-AM5: Away team's form for last 5 matches (most recent to oldest)\n",
    "    \"\"\"\n",
    "    # Make a copy to avoid modifying original\n",
    "    df = playing_statistics.copy()\n",
    "    \n",
    "    # Create team results dictionary to track form\n",
    "    team_forms = {}\n",
    "    for team in df['HomeTeam'].unique():\n",
    "        team_forms[team] = ['M'] * 5  # Initialize with 'M' for first 5 matches\n",
    "    \n",
    "    # Remove any existing form columns\n",
    "    form_cols = [col for col in df.columns if col.startswith('HM') or col.startswith('AM')]\n",
    "    df = df.drop(columns=form_cols, errors='ignore')\n",
    "    \n",
    "    # Initialize form columns\n",
    "    for i in range(1, 6):\n",
    "        df[f'HM{i}'] = 'M'\n",
    "        df[f'AM{i}'] = 'M'\n",
    "    \n",
    "    # Process each match sequentially to build form history\n",
    "    for idx in range(len(df)):\n",
    "        home_team = df.iloc[idx]['HomeTeam']\n",
    "        away_team = df.iloc[idx]['AwayTeam']\n",
    "        result = df.iloc[idx]['FTR']\n",
    "        \n",
    "        # Get current form lists for both teams\n",
    "        home_form = team_forms[home_team]\n",
    "        away_form = team_forms[away_team]\n",
    "        \n",
    "        # Update current row with existing form\n",
    "        for i in range(5):\n",
    "            df.at[idx, f'HM{i+1}'] = home_form[i]\n",
    "            df.at[idx, f'AM{i+1}'] = away_form[i]\n",
    "        \n",
    "        # Update form history based on this match result\n",
    "        if result == 'H':\n",
    "            # Home win\n",
    "            home_form = ['W'] + home_form[:-1]\n",
    "            away_form = ['L'] + away_form[:-1]\n",
    "        elif result == 'A':\n",
    "            # Away win\n",
    "            home_form = ['L'] + home_form[:-1]\n",
    "            away_form = ['W'] + away_form[:-1]\n",
    "        else:\n",
    "            # Draw\n",
    "            home_form = ['D'] + home_form[:-1]\n",
    "            away_form = ['D'] + away_form[:-1]\n",
    "            \n",
    "        # Store updated form history\n",
    "        team_forms[home_team] = home_form\n",
    "        team_forms[away_team] = away_form\n",
    "        \n",
    "    return df"
   ]
  },
  {
   "cell_type": "code",
   "execution_count": null,
   "id": "f902d064",
   "metadata": {},
   "outputs": [],
   "source": [
    "playing_stats_1 = add_form_df(playing_stats_1)\n",
    "playing_stats_1"
   ]
  },
  {
   "cell_type": "code",
   "execution_count": null,
   "id": "2ab0a943",
   "metadata": {},
   "outputs": [],
   "source": [
    "playing_stats_1 = add_form_df(playing_stats_1)\n",
    "playing_stats_2 = add_form_df(playing_stats_2)\n",
    "playing_stats_3 = add_form_df(playing_stats_3)\n",
    "playing_stats_4 = add_form_df(playing_stats_4)\n",
    "playing_stats_5 = add_form_df(playing_stats_5)\n",
    "playing_stats_6 = add_form_df(playing_stats_6)\n",
    "playing_stats_7 = add_form_df(playing_stats_7)\n",
    "playing_stats_8 = add_form_df(playing_stats_8)\n",
    "playing_stats_9 = add_form_df(playing_stats_9)\n",
    "playing_stats_10 = add_form_df(playing_stats_10)\n",
    "playing_stats_11 = add_form_df(playing_stats_11)\n",
    "playing_stats_12 = add_form_df(playing_stats_12)\n",
    "playing_stats_13 = add_form_df(playing_stats_13)\n",
    "playing_stats_14 = add_form_df(playing_stats_14)\n",
    "playing_stats_15 = add_form_df(playing_stats_15)\n",
    "playing_stats_16 = add_form_df(playing_stats_16)\n",
    "playing_stats_17 = add_form_df(playing_stats_17)\n",
    "playing_stats_18 = add_form_df(playing_stats_18)\n",
    "playing_stats_21 = add_form_df(playing_stats_21)\n",
    "playing_stats_22 = add_form_df(playing_stats_22)\n"
   ]
  },
  {
   "cell_type": "code",
   "execution_count": null,
   "id": "34491c3a",
   "metadata": {},
   "outputs": [],
   "source": [
    "cols = ['Date', 'HomeTeam', 'AwayTeam', 'FTHG', 'FTAG', 'FTR', 'HTGS', 'ATGS', 'HTGC', 'ATGC', 'HTP', 'ATP', 'HM1', 'HM2', 'HM3',\n",
    "        'HM4', 'HM5', 'AM1', 'AM2', 'AM3', 'AM4', 'AM5' ]\n",
    "playing_stats_1 = playing_stats_1[cols]\n",
    "playing_stats_2 = playing_stats_2[cols]\n",
    "playing_stats_3 = playing_stats_3[cols]\n",
    "playing_stats_4 = playing_stats_4[cols]\n",
    "playing_stats_5 = playing_stats_5[cols]\n",
    "playing_stats_6 = playing_stats_6[cols]\n",
    "playing_stats_7 = playing_stats_7[cols]\n",
    "playing_stats_8 = playing_stats_8[cols]\n",
    "playing_stats_9 = playing_stats_9[cols]\n",
    "playing_stats_10 = playing_stats_10[cols]\n",
    "playing_stats_11 = playing_stats_11[cols]\n",
    "playing_stats_12 = playing_stats_12[cols]\n",
    "playing_stats_13 = playing_stats_13[cols]\n",
    "playing_stats_14 = playing_stats_14[cols]\n",
    "playing_stats_15 = playing_stats_15[cols]\n",
    "playing_stats_16 = playing_stats_16[cols]\n",
    "playing_stats_17 = playing_stats_17[cols]\n",
    "playing_stats_18 = playing_stats_18[cols]\n",
    "playing_stats_21 = playing_stats_21[cols]\n",
    "playing_stats_22 = playing_stats_22[cols]"
   ]
  },
  {
   "cell_type": "code",
   "execution_count": null,
   "id": "120a090f",
   "metadata": {},
   "outputs": [],
   "source": [
    "def get_mw(playing_stat):\n",
    "    j = 1\n",
    "    MatchWeek = []\n",
    "    for i in range(380):\n",
    "        MatchWeek.append(j)\n",
    "        if ((i + 1)% 10) == 0:\n",
    "            j = j + 1\n",
    "    playing_stat['MW'] = MatchWeek\n",
    "    return playing_stat"
   ]
  },
  {
   "cell_type": "code",
   "execution_count": null,
   "id": "6c3447d2",
   "metadata": {},
   "outputs": [],
   "source": [
    "playing_stats_1 = get_mw(playing_stats_1)\n",
    "playing_stats_2 = get_mw(playing_stats_2)\n",
    "playing_stats_3 = get_mw(playing_stats_3)\n",
    "playing_stats_4 = get_mw(playing_stats_4)\n",
    "playing_stats_5 = get_mw(playing_stats_5)\n",
    "playing_stats_6 = get_mw(playing_stats_6)\n",
    "playing_stats_7 = get_mw(playing_stats_7)\n",
    "playing_stats_8 = get_mw(playing_stats_8)\n",
    "playing_stats_9 = get_mw(playing_stats_9)\n",
    "playing_stats_10 = get_mw(playing_stats_10)\n",
    "playing_stats_11 = get_mw(playing_stats_11)\n",
    "playing_stats_12 = get_mw(playing_stats_12)\n",
    "playing_stats_13 = get_mw(playing_stats_13)\n",
    "playing_stats_14 = get_mw(playing_stats_14)\n",
    "playing_stats_15 = get_mw(playing_stats_15)\n",
    "playing_stats_16 = get_mw(playing_stats_16)\n",
    "playing_stats_17 = get_mw(playing_stats_17)\n",
    "playing_stats_18 = get_mw(playing_stats_18)\n",
    "playing_stats_21 = get_mw(playing_stats_21)\n",
    "playing_stats_22 = get_mw(playing_stats_22)"
   ]
  },
  {
   "cell_type": "markdown",
   "id": "87aca73c",
   "metadata": {},
   "source": [
    "final dataframe"
   ]
  },
  {
   "cell_type": "code",
   "execution_count": null,
   "id": "4909c7fa",
   "metadata": {},
   "outputs": [],
   "source": [
    "playing_stat = pd.concat([playing_stats_1, playing_stats_2, playing_stats_3, playing_stats_4, playing_stats_5, playing_stats_6,\n",
    "                        playing_stats_7, playing_stats_8, playing_stats_9, playing_stats_10, playing_stats_11, playing_stats_12,\n",
    "                        playing_stats_13, playing_stats_14, playing_stats_15, playing_stats_16, playing_stats_17, playing_stats_18\n",
    "                        , playing_stats_21, playing_stats_22], ignore_index=True)"
   ]
  },
  {
   "cell_type": "code",
   "execution_count": null,
   "id": "c92589a5",
   "metadata": {},
   "outputs": [],
   "source": [
    "# Check the last few rows of the DataFrame to see the form patterns\n",
    "print(\"Last 5 matches form for home teams:\")\n",
    "print(playing_stats_1[['HomeTeam', 'HM1', 'HM2', 'HM3', 'HM4', 'HM5']].tail(10))\n",
    "\n",
    "print(\"\\nLast 5 matches form for away teams:\")\n",
    "print(playing_stats_1[['AwayTeam', 'AM1', 'AM2', 'AM3', 'AM4', 'AM5']].tail(10))\n",
    "\n",
    "# Check if form values are being properly updated\n",
    "last_match = playing_stat.iloc[-1]\n",
    "print(\"\\nDetailed form info for last match:\")\n",
    "print(f\"Home Team: {last_match['HomeTeam']}\")\n",
    "print(f\"Home Form: {last_match['HM1']},{last_match['HM2']},{last_match['HM3']},{last_match['HM4']},{last_match['HM5']}\")\n",
    "print(f\"Away Team: {last_match['AwayTeam']}\")\n",
    "print(f\"Away Form: {last_match['AM1']},{last_match['AM2']},{last_match['AM3']},{last_match['AM4']},{last_match['AM5']}\")"
   ]
  },
  {
   "cell_type": "code",
   "execution_count": null,
   "id": "62720db0",
   "metadata": {},
   "outputs": [],
   "source": [
    "def get_form_points(string):\n",
    "    sum = 0\n",
    "    for letter in string:\n",
    "        sum += get_points(letter)\n",
    "    return sum"
   ]
  },
  {
   "cell_type": "code",
   "execution_count": null,
   "id": "e0fab865",
   "metadata": {},
   "outputs": [],
   "source": [
    "playing_stat['HTFormPtsStr'] = playing_stat['HM1'] + playing_stat['HM2'] + playing_stat['HM3'] + playing_stat['HM4'] + playing_stat['HM5']\n",
    "playing_stat['ATFormPtsStr'] = playing_stat['AM1'] + playing_stat['AM2'] + playing_stat['AM3'] + playing_stat['AM4'] + playing_stat['AM5']\n",
    "\n",
    "playing_stat['HTFormPts'] = playing_stat['HTFormPtsStr'].apply(get_form_points)\n",
    "playing_stat['ATFormPts'] = playing_stat['ATFormPtsStr'].apply(get_form_points)\n",
    "playing_stat "
   ]
  },
  {
   "cell_type": "code",
   "execution_count": null,
   "id": "d3c5ff3b",
   "metadata": {},
   "outputs": [],
   "source": [
    "def get_3game_ws(string):\n",
    "    if string[-3:] == 'WWW':\n",
    "        return 1\n",
    "    else:\n",
    "        return 0\n",
    "    \n",
    "def get_5game_ws(string):\n",
    "    if string == 'WWWWW':\n",
    "        return 1\n",
    "    else:\n",
    "        return 0\n",
    "    \n",
    "def get_3game_ls(string):\n",
    "    if string[-3:] == 'LLL':\n",
    "        return 1\n",
    "    else:\n",
    "        return 0\n",
    "    \n",
    "def get_5game_ls(string):\n",
    "    if string == 'LLLLL':\n",
    "        return 1\n",
    "    else:\n",
    "        return 0"
   ]
  },
  {
   "cell_type": "code",
   "execution_count": null,
   "id": "59950806",
   "metadata": {},
   "outputs": [],
   "source": [
    "playing_stat['HTWinStreak3'] = playing_stat['HTFormPtsStr'].apply(get_3game_ws)\n",
    "playing_stat['HTWinStreak5'] = playing_stat['HTFormPtsStr'].apply(get_5game_ws)\n",
    "playing_stat['HTLossStreak3'] = playing_stat['HTFormPtsStr'].apply(get_3game_ls)\n",
    "playing_stat['HTLossStreak5'] = playing_stat['HTFormPtsStr'].apply(get_5game_ls)\n",
    "\n",
    "playing_stat['ATWinStreak3'] = playing_stat['ATFormPtsStr'].apply(get_3game_ws)\n",
    "playing_stat['ATWinStreak5'] = playing_stat['ATFormPtsStr'].apply(get_5game_ws)\n",
    "playing_stat['ATLossStreak3'] = playing_stat['ATFormPtsStr'].apply(get_3game_ls)\n",
    "playing_stat['ATLossStreak5'] = playing_stat['ATFormPtsStr'].apply(get_5game_ls)"
   ]
  },
  {
   "cell_type": "code",
   "execution_count": null,
   "id": "c39cc642",
   "metadata": {},
   "outputs": [],
   "source": [
    "playing_stat.keys()"
   ]
  },
  {
   "cell_type": "code",
   "execution_count": null,
   "id": "905eef31",
   "metadata": {},
   "outputs": [],
   "source": [
    "# Get Goal Difference\n",
    "playing_stat['HTGD'] = playing_stat['HTGS'] - playing_stat['HTGC']\n",
    "playing_stat['ATGD'] = playing_stat['ATGS'] - playing_stat['ATGC']\n",
    "playing_stat['DiffGD'] = playing_stat['HTGS'] - playing_stat['ATGS']\n",
    "\n",
    "# Diff in points\n",
    "playing_stat['DiffPts'] = playing_stat['HTP'] - playing_stat['ATP']\n",
    "playing_stat['DiffFormPts'] = playing_stat['HTFormPts'] - playing_stat['ATFormPts']"
   ]
  },
  {
   "cell_type": "code",
   "execution_count": null,
   "id": "1a591d0f",
   "metadata": {},
   "outputs": [],
   "source": [
    "playing_stat"
   ]
  },
  {
   "cell_type": "code",
   "execution_count": null,
   "id": "9d786adb",
   "metadata": {},
   "outputs": [],
   "source": [
    "playing_stat.to_csv('Final_Dataset.csv', index=False)"
   ]
  },
  {
   "cell_type": "code",
   "execution_count": null,
   "id": "91a659aa",
   "metadata": {},
   "outputs": [],
   "source": [
    "# Test de la fonction avec les données de la première saison\n",
    "test_df = get_home_goals_19(playing_stats_1)\n",
    "\n",
    "# Afficher les résultats pour quelques équipes\n",
    "print(\"Buts marqués à domicile par match :\")\n",
    "print(test_df.head())\n",
    "\n",
    "# Vérifier les détails des buts pour une équipe spécifique\n",
    "team = test_df['HomeTeam'].unique()[0]\n",
    "print(f\"\\nDétails des buts pour {team}:\")\n",
    "print(test_df[test_df['HomeTeam'] == team])"
   ]
  },
  {
   "cell_type": "markdown",
   "id": "253c6131",
   "metadata": {},
   "source": [
    "Load Data"
   ]
  },
  {
   "cell_type": "code",
   "execution_count": null,
   "id": "03571be2",
   "metadata": {},
   "outputs": [],
   "source": [
    "df = pd.read_csv('Final_Dataset.csv')\n",
    "df"
   ]
  },
  {
   "cell_type": "code",
   "execution_count": null,
   "id": "65866e05",
   "metadata": {},
   "outputs": [],
   "source": [
    "df.info()"
   ]
  },
  {
   "cell_type": "code",
   "execution_count": null,
   "id": "2847e936",
   "metadata": {},
   "outputs": [],
   "source": [
    "df.describe()"
   ]
  },
  {
   "cell_type": "code",
   "execution_count": null,
   "id": "416eb01f",
   "metadata": {},
   "outputs": [],
   "source": [
    "df.isnull().sum()"
   ]
  },
  {
   "cell_type": "code",
   "execution_count": null,
   "id": "d34fca60",
   "metadata": {},
   "outputs": [],
   "source": [
    "df.isna().sum()"
   ]
  },
  {
   "cell_type": "markdown",
   "id": "fc86c326",
   "metadata": {},
   "source": [
    "Encode categorical data"
   ]
  },
  {
   "cell_type": "code",
   "execution_count": null,
   "id": "b8933b0e",
   "metadata": {},
   "outputs": [],
   "source": [
    "from sklearn.preprocessing import OneHotEncoder, LabelEncoder\n",
    "from sklearn.compose import ColumnTransformer\n",
    "from sklearn.feature_selection import (\n",
    "    f_classif, chi2, mutual_info_classif, SelectKBest\n",
    ")\n",
    "from sklearn.pipeline import Pipeline\n",
    "# Create an instance of OneHotEncoder\n",
    "encoder = OneHotEncoder(dtype=int, sparse_output=True)"
   ]
  },
  {
   "cell_type": "code",
   "execution_count": null,
   "id": "753857df",
   "metadata": {},
   "outputs": [],
   "source": [
    "# Fit and transform the categorical columns\n",
    "encoded_array = encoder.fit_transform(df[[\"FTR\"]])\n",
    "# Get correct feature names using get_feature_names_out()\n",
    "encoded_columns = encoder.get_feature_names_out([\"FTR\"])\n",
    "#Convert the encoded data into a DataFrame with the correct column names\n",
    "nominal = pd.DataFrame(encoded_array.toarray(),\n",
    "                       columns=encoded_columns) \n",
    "print(encoded_array.toarray())\n",
    "print(nominal)"
   ]
  },
  {
   "cell_type": "code",
   "execution_count": null,
   "id": "be67e945",
   "metadata": {},
   "outputs": [],
   "source": [
    "plt.figure(figsize=(20,10))\n",
    "sns.heatmap(df.select_dtypes(include=\"number\").corr(),annot=True)\n",
    "plt.show()"
   ]
  },
  {
   "cell_type": "code",
   "execution_count": null,
   "id": "8c55d2f6",
   "metadata": {},
   "outputs": [],
   "source": [
    "#Features engineering\n",
    "y_label = df['FTR']\n",
    "X = df.copy().drop(columns=['FTR'])"
   ]
  },
  {
   "cell_type": "code",
   "execution_count": null,
   "id": "f1381d7a",
   "metadata": {},
   "outputs": [],
   "source": [
    "num_cols = X.select_dtypes(include='number').columns.to_list()\n",
    "cat_cols = X.select_dtypes(exclude='number').columns.to_list()\n",
    "print(\"Numériques :\", num_cols)\n",
    "print(\"Catégorielles :\", cat_cols)"
   ]
  },
  {
   "cell_type": "code",
   "execution_count": null,
   "id": "768846f6",
   "metadata": {},
   "outputs": [],
   "source": [
    "le = LabelEncoder()\n",
    "y_encoded = le.fit_transform(y_label)  \n",
    "y_encoded  \n"
   ]
  },
  {
   "cell_type": "code",
   "execution_count": null,
   "id": "ef47fce2",
   "metadata": {},
   "outputs": [],
   "source": [
    "F, pvals = f_classif(X[num_cols], y_encoded)\n",
    "anova_res = pd.Series(pvals, index=num_cols).sort_values()\n",
    "print(\"p-values (ANOVA) les plus petites :\")\n",
    "print(anova_res.head(10))\n"
   ]
  },
  {
   "cell_type": "code",
   "execution_count": null,
   "id": "1fd77593",
   "metadata": {},
   "outputs": [],
   "source": [
    "selectdata = df.copy().drop(columns=['Date','HomeTeam','AwayTeam','FTHG','FTAG','HTGS','ATGS','HTGC','ATGC','HM4','HM5','AM4','AM5','MW','HTFormPtsStr','ATFormPtsStr','HTWinStreak3',\n",
    "       'HTWinStreak5', 'HTLossStreak3', 'HTLossStreak5', 'ATWinStreak3','ATWinStreak5', 'ATLossStreak3', 'ATLossStreak5'])"
   ]
  },
  {
   "cell_type": "code",
   "execution_count": null,
   "id": "d4cc67c1",
   "metadata": {},
   "outputs": [],
   "source": [
    "selectdata.keys()"
   ]
  },
  {
   "cell_type": "code",
   "execution_count": null,
   "id": "2ccb29c0",
   "metadata": {},
   "outputs": [],
   "source": [
    "selectdata.tail()"
   ]
  },
  {
   "cell_type": "code",
   "execution_count": null,
   "id": "ec162533",
   "metadata": {},
   "outputs": [],
   "source": [
    "n_features = selectdata.shape[1] -1\n",
    "n_matches = selectdata.shape[0]\n",
    "print(\"Total number of matches: {}\".format(n_matches))\n",
    "print (\"Number of features: {}\".format(n_features))\n"
   ]
  },
  {
   "cell_type": "code",
   "execution_count": null,
   "id": "4fdb3676",
   "metadata": {},
   "outputs": [],
   "source": [
    "# Visualising distribution of data\n",
    "from pandas.plotting import scatter_matrix"
   ]
  },
  {
   "cell_type": "markdown",
   "id": "56f1ceaa",
   "metadata": {},
   "source": [
    "THE SCATTER matrix is plotting each of the columns specified against each other column.\n",
    "\n",
    "Each cell of the matrix :\n",
    "\n",
    "shows the relationship between two variables\n",
    "\n",
    "Displays a histogram on the diagonal for the distribution of each variable"
   ]
  },
  {
   "cell_type": "code",
   "execution_count": null,
   "id": "09b3b08f",
   "metadata": {},
   "outputs": [],
   "source": [
    "sns.pairplot(selectdata[['HTGD','ATGD','HTP','ATP','DiffFormPts','DiffGD', 'FTR']], hue='FTR')\n",
    "plt.show()\n"
   ]
  },
  {
   "cell_type": "code",
   "execution_count": null,
   "id": "e1d082d8",
   "metadata": {},
   "outputs": [],
   "source": [
    "X_all = selectdata.copy().drop('FTR',axis=1)\n",
    "y_all = selectdata['FTR']\n",
    "#Standarising the data\n",
    "from sklearn.preprocessing import scale\n",
    "#Centre to the mean\n",
    "cols = [['HTGD','ATGD','HTP','ATP','DiffFormPts','DiffGD']]\n",
    "for col in cols:\n",
    "    X_all[col] = scale(X_all[col])\n",
    "\n",
    "print(X_all)\n"
   ]
  },
  {
   "cell_type": "code",
   "execution_count": null,
   "id": "ea1ac007",
   "metadata": {},
   "outputs": [],
   "source": [
    "# Fit and transform the categorical columns\n",
    "encoded_array = encoder.fit_transform(X_all[[\"HM1\",\"HM2\",\"HM3\",\"AM1\",\"AM2\",\"AM3\"]])\n",
    "# Get correct feature names using get_feature_names_out()\n",
    "encoded_columns = encoder.get_feature_names_out([\"HM1\",\"HM2\",\"HM3\",\"AM1\",\"AM2\",\"AM3\"])\n",
    "#Convert the encoded data into a DataFrame with the correct column names\n",
    "nominal = pd.DataFrame(encoded_array.toarray(),\n",
    "                       columns=encoded_columns) \n",
    "print(encoded_array.toarray())\n",
    "print(nominal)"
   ]
  },
  {
   "cell_type": "code",
   "execution_count": null,
   "id": "00ceee9c",
   "metadata": {},
   "outputs": [],
   "source": [
    "X_all_num = X_all.copy().drop(columns=[\"HM1\",\"HM2\",\"HM3\",\"AM1\",\"AM2\",\"AM3\"],axis=1)\n",
    "X_all_final = pd.concat([X_all_num.reset_index(drop=True), nominal.reset_index(drop=True)],axis=1)\n",
    "X_all_final"
   ]
  },
  {
   "cell_type": "markdown",
   "id": "a4e9db14",
   "metadata": {},
   "source": [
    "Spliting the dataset"
   ]
  },
  {
   "cell_type": "code",
   "execution_count": null,
   "id": "a7432e73",
   "metadata": {},
   "outputs": [],
   "source": [
    "from sklearn.model_selection import train_test_split\n",
    "\n",
    "# Shuffle and split the dataset into training and testing set.\n",
    "X_train, X_test, y_train, y_test = train_test_split(X_all_final, y_encoded, \n",
    "                                                    test_size = 0.3,\n",
    "                                                    random_state = 2,\n",
    "                                                    stratify = y_encoded)"
   ]
  },
  {
   "cell_type": "markdown",
   "id": "3346fa1d",
   "metadata": {},
   "source": [
    "Applying Logitstic regression"
   ]
  },
  {
   "cell_type": "code",
   "execution_count": null,
   "id": "3b06f707",
   "metadata": {},
   "outputs": [],
   "source": [
    "# Fitting Logistic Regression to the Training set\n",
    "from sklearn.linear_model import LogisticRegression\n",
    "model = LogisticRegression(max_iter=1000)  # au lieu de 100\n",
    "model.fit(X_train, y_train)"
   ]
  },
  {
   "cell_type": "code",
   "execution_count": null,
   "id": "9028c2b6",
   "metadata": {},
   "outputs": [],
   "source": [
    "Y_pred = model.predict(X_test)"
   ]
  },
  {
   "cell_type": "code",
   "execution_count": null,
   "id": "506e12ff",
   "metadata": {},
   "outputs": [],
   "source": [
    "from sklearn.metrics import accuracy_score\n",
    "\n",
    "accuracy = accuracy_score(y_test, Y_pred)\n",
    "print(f\"Accuracy : {accuracy:.2f}\")\n"
   ]
  },
  {
   "cell_type": "code",
   "execution_count": null,
   "id": "53a35a93",
   "metadata": {},
   "outputs": [],
   "source": [
    "from sklearn.metrics import confusion_matrix\n",
    "\n",
    "\n",
    "cm = confusion_matrix(y_test, Y_pred, labels=[0, 1, 2])  # H=0, D=1, A=2\n",
    "sns.heatmap(cm, annot=True, fmt=\"d\", cmap=\"Blues\", xticklabels=['H', 'D', 'A'], yticklabels=['H', 'D', 'A'])\n",
    "plt.xlabel(\"Prédiction\")\n",
    "plt.ylabel(\"Vérité\")\n",
    "plt.title(\"Matrice de confusion\")\n",
    "plt.show()\n"
   ]
  },
  {
   "cell_type": "code",
   "execution_count": null,
   "id": "96fc4595",
   "metadata": {},
   "outputs": [],
   "source": [
    "from sklearn.metrics import classification_report\n",
    "\n",
    "print(classification_report(y_test, Y_pred, target_names=['H', 'D', 'A']))\n"
   ]
  },
  {
   "cell_type": "markdown",
   "id": "f1fb67d1",
   "metadata": {},
   "source": [
    "Applying Random Forest"
   ]
  },
  {
   "cell_type": "code",
   "execution_count": null,
   "id": "29391ca1",
   "metadata": {},
   "outputs": [],
   "source": [
    "from sklearn.ensemble import RandomForestClassifier\n",
    "classifier = RandomForestClassifier(n_estimators=700,min_samples_split=10,min_samples_leaf=1,random_state=1,n_jobs=-1,oob_score=True,class_weight='balanced')\n",
    "\n",
    "classifier.fit(X_train,y_train)"
   ]
  },
  {
   "cell_type": "code",
   "execution_count": null,
   "id": "d9b78292",
   "metadata": {},
   "outputs": [],
   "source": [
    "Y_pred = classifier.predict(X_test)"
   ]
  },
  {
   "cell_type": "code",
   "execution_count": null,
   "id": "cc939cb1",
   "metadata": {},
   "outputs": [],
   "source": [
    "cm = confusion_matrix(y_test, Y_pred, labels=[0, 1, 2]) "
   ]
  },
  {
   "cell_type": "code",
   "execution_count": null,
   "id": "69e97c42",
   "metadata": {},
   "outputs": [],
   "source": [
    "sns.heatmap(cm, annot=True, fmt=\"d\", cmap=\"Blues\", xticklabels=['H', 'D', 'A'], yticklabels=['H', 'D', 'A'])\n",
    "plt.xlabel(\"Prédiction\")\n",
    "plt.ylabel(\"Vérité\")\n",
    "plt.title(\"Matrice de confusion\")\n",
    "plt.show()\n"
   ]
  },
  {
   "cell_type": "code",
   "execution_count": null,
   "id": "9043f7e4",
   "metadata": {},
   "outputs": [],
   "source": [
    "print(classification_report(y_test, Y_pred, target_names=['H', 'D', 'A']))"
   ]
  },
  {
   "cell_type": "markdown",
   "id": "3f06fd2a",
   "metadata": {},
   "source": [
    "Applying XGBoost"
   ]
  },
  {
   "cell_type": "code",
   "execution_count": null,
   "id": "56ccc2ff",
   "metadata": {},
   "outputs": [],
   "source": [
    "\n",
    "\n",
    "from xgboost import XGBClassifier\n",
    "classifier = XGBClassifier(seed=82)\n",
    "classifier.fit(X_train, y_train)\n"
   ]
  },
  {
   "cell_type": "code",
   "execution_count": null,
   "id": "309185b8",
   "metadata": {},
   "outputs": [],
   "source": [
    "Y_pred = classifier.predict(X_test)\n",
    "cm = confusion_matrix(y_test, Y_pred, labels=[0, 1, 2])"
   ]
  },
  {
   "cell_type": "code",
   "execution_count": null,
   "id": "3cd2d938",
   "metadata": {},
   "outputs": [],
   "source": [
    "sns.heatmap(cm, annot=True, fmt=\"d\", cmap=\"Blues\", xticklabels=['H', 'D', 'A'], yticklabels=['H', 'D', 'A'])\n",
    "plt.xlabel(\"Prédiction\")\n",
    "plt.ylabel(\"Vérité\")\n",
    "plt.title(\"Matrice de confusion\")\n",
    "plt.show()\n"
   ]
  },
  {
   "cell_type": "code",
   "execution_count": null,
   "id": "dfab405b",
   "metadata": {},
   "outputs": [],
   "source": [
    "print(classification_report(y_test, Y_pred, target_names=['H', 'D', 'A']))"
   ]
  },
  {
   "cell_type": "markdown",
   "id": "c157a8b1",
   "metadata": {},
   "source": [
    "Neural network"
   ]
  },
  {
   "cell_type": "code",
   "execution_count": 10,
   "id": "313568bb",
   "metadata": {},
   "outputs": [],
   "source": [
    "import tensorflow as tf\n",
    "from keras.models import Sequential\n",
    "from keras.layers import Dense, Dropout\n",
    "from keras.optimizers import Adam\n",
    "from keras.utils import to_categorical\n",
    "from sklearn.utils.class_weight import compute_class_weight # For handling class imbalance\n"
   ]
  },
  {
   "cell_type": "code",
   "execution_count": 6,
   "id": "77cf9af4",
   "metadata": {},
   "outputs": [
    {
     "name": "stdout",
     "output_type": "stream",
     "text": [
      "2.18.1\n"
     ]
    }
   ],
   "source": [
    "print(tf.__version__)"
   ]
  },
  {
   "cell_type": "markdown",
   "id": "48ec49f7",
   "metadata": {},
   "source": [
    "# Model Performance Comparison\n",
    "\n",
    "The table below summarizes the performance of the three models (Logistic Regression, Random Forest, XGBoost) on the test set. Metrics include accuracy, precision, recall, and F1-score for each class (H, D, A)."
   ]
  },
  {
   "cell_type": "code",
   "execution_count": null,
   "id": "645fd6d8",
   "metadata": {},
   "outputs": [],
   "source": [
    "from sklearn.metrics import accuracy_score, classification_report\n",
    "\n",
    "# Logistic Regression\n",
    "logit_pred = model.predict(X_test)\n",
    "logit_acc = accuracy_score(y_test, logit_pred)\n",
    "logit_report = classification_report(y_test, logit_pred, target_names=['H', 'D', 'A'], output_dict=True)\n",
    "\n",
    "# Random Forest\n",
    "rf_pred = classifier.predict(X_test)\n",
    "rf_acc = accuracy_score(y_test, rf_pred)\n",
    "rf_report = classification_report(y_test, rf_pred, target_names=['H', 'D', 'A'], output_dict=True)\n",
    "\n",
    "# XGBoost\n",
    "from xgboost import XGBClassifier\n",
    "xgb = XGBClassifier(seed=82)\n",
    "xgb.fit(X_train, y_train)\n",
    "xgb_pred = xgb.predict(X_test)\n",
    "xgb_acc = accuracy_score(y_test, xgb_pred)\n",
    "xgb_report = classification_report(y_test, xgb_pred, target_names=['H', 'D', 'A'], output_dict=True)\n",
    "\n",
    "\n",
    "summary = pd.DataFrame({\n",
    "    'Logistic Regression': [logit_acc, logit_report['H']['f1-score'], logit_report['D']['f1-score'], logit_report['A']['f1-score']],\n",
    "    'Random Forest': [rf_acc, rf_report['H']['f1-score'], rf_report['D']['f1-score'], rf_report['A']['f1-score']],\n",
    "    'XGBoost': [xgb_acc, xgb_report['H']['f1-score'], xgb_report['D']['f1-score'], xgb_report['A']['f1-score']]\n",
    "}, index=['Accuracy', 'F1-score (H)', 'F1-score (D)', 'F1-score (A)'])\n",
    "\n",
    "print('Model Performance Summary Table:')\n",
    "display(summary.round(3))"
   ]
  },
  {
   "cell_type": "markdown",
   "id": "c50aae42",
   "metadata": {},
   "source": [
    "**Interpretation:**\n",
    "- The model with the highest accuracy and balanced F1-scores across all classes is considered the best performer.\n",
    "- Review the table above to identify the most performant model for your dataset."
   ]
  },
  {
   "cell_type": "code",
   "execution_count": 3,
   "id": "56db220d",
   "metadata": {},
   "outputs": [
    {
     "name": "stdout",
     "output_type": "stream",
     "text": [
      "2.18.1\n"
     ]
    }
   ],
   "source": [
    "# Verify TensorFlow installation\n",
    "import tensorflow as tf\n",
    "print(tf.__version__)"
   ]
  }
 ],
 "metadata": {
  "kernelspec": {
   "display_name": "Python (match-prediction)",
   "language": "python",
   "name": "match-prediction"
  },
  "language_info": {
   "codemirror_mode": {
    "name": "ipython",
    "version": 3
   },
   "file_extension": ".py",
   "mimetype": "text/x-python",
   "name": "python",
   "nbconvert_exporter": "python",
   "pygments_lexer": "ipython3",
   "version": "3.9.21"
  }
 },
 "nbformat": 4,
 "nbformat_minor": 5
}
