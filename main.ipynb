{
 "cells": [
  {
   "cell_type": "code",
   "execution_count": null,
   "id": "16326d3b",
   "metadata": {},
   "outputs": [],
   "source": [
    "import pandas as pd\n",
    "import matplotlib.pyplot as plt\n",
    "import numpy as np\n",
    "import seaborn as sns\n",
    "from datetime import datetime as dt\n",
    "import itertools\n",
    "\n",
    "%matplotlib inline"
   ]
  },
  {
   "cell_type": "markdown",
   "id": "d7d4576f",
   "metadata": {},
   "source": [
    "Reading data from the CSV into a dataframe"
   ]
  },
  {
   "cell_type": "code",
   "execution_count": null,
   "id": "a1dbc88c",
   "metadata": {},
   "outputs": [],
   "source": [
    "folder='./Datasets/'\n",
    "raw_data_1 = pd.read_csv(folder+'2000-01.csv')\n",
    "raw_data_2 = pd.read_csv(folder+'2001-02.csv')\n",
    "raw_data_3 = pd.read_csv(folder+'2002-03.csv') \n",
    "raw_data_4 = pd.read_csv(folder+'2003-04.csv')\n",
    "raw_data_5 = pd.read_csv(folder+'2004-05.csv')\n",
    "raw_data_6 = pd.read_csv(folder+'2005-06.csv')\n",
    "raw_data_7 = pd.read_csv(folder+'2006-07.csv')\n",
    "raw_data_8 = pd.read_csv(folder+'2007-08.csv')\n",
    "raw_data_9 = pd.read_csv(folder+'2008-09.csv')\n",
    "raw_data_10 = pd.read_csv(folder+'2009-10.csv')\n",
    "raw_data_11 = pd.read_csv(folder+'2010-11.csv')\n",
    "raw_data_12 = pd.read_csv(folder+'2011-12.csv')\n",
    "raw_data_13 = pd.read_csv(folder+'2012-13.csv')\n",
    "raw_data_14 = pd.read_csv(folder+'2013-14.csv')\n",
    "raw_data_15 = pd.read_csv(folder+'2014-15.csv')\n",
    "raw_data_16 = pd.read_csv(folder+'2015-16.csv')\n",
    "raw_data_17 = pd.read_csv(folder+'2016-17.csv')\n",
    "raw_data_18 = pd.read_csv(folder+'2017-18.csv')\n",
    "raw_data_19 = pd.read_csv(folder+'2018-19.csv')\n",
    "raw_data_20 = pd.read_csv(folder+'2019-20.csv')\n",
    "raw_data_21 = pd.read_csv(folder+'2020-2021.csv')\n",
    "raw_data_22 = pd.read_csv(folder+'2021-2022.csv')"
   ]
  },
  {
   "cell_type": "code",
   "execution_count": null,
   "id": "40f27a95",
   "metadata": {},
   "outputs": [],
   "source": [
    "print(len(raw_data_19))\n"
   ]
  },
  {
   "cell_type": "code",
   "execution_count": null,
   "id": "de2bc105",
   "metadata": {},
   "outputs": [],
   "source": [
    "#Gets all the statistics related to the gameplay\n",
    "columns = ['Date', 'HomeTeam', 'AwayTeam', 'FTHG', 'FTAG', 'FTR']\n",
    "playing_stats_1 = raw_data_1[columns]\n",
    "playing_stats_2 = raw_data_2[columns]\n",
    "playing_stats_3 = raw_data_3[columns]\n",
    "playing_stats_4 = raw_data_4[columns]\n",
    "playing_stats_5 = raw_data_5[columns]\n",
    "playing_stats_6 = raw_data_6[columns]\n",
    "playing_stats_7 = raw_data_7[columns]\n",
    "playing_stats_8 = raw_data_8[columns]\n",
    "playing_stats_9 = raw_data_9[columns]\n",
    "playing_stats_10 = raw_data_10[columns]\n",
    "playing_stats_11 = raw_data_11[columns]\n",
    "playing_stats_12 = raw_data_12[columns]\n",
    "playing_stats_13 = raw_data_13[columns]\n",
    "playing_stats_14 = raw_data_14[columns]\n",
    "playing_stats_15 = raw_data_15[columns]\n",
    "playing_stats_16 = raw_data_16[columns]\n",
    "playing_stats_17 = raw_data_17[columns]\n",
    "playing_stats_18 = raw_data_18[columns]\n",
    "#playing_stats_19 = raw_data_19[columns]\n",
    "playing_stats_20 = raw_data_20[columns]\n",
    "playing_stats_21 = raw_data_21[columns]\n",
    "playing_stats_22 = raw_data_22[columns]\n"
   ]
  },
  {
   "cell_type": "code",
   "execution_count": null,
   "id": "252e0813",
   "metadata": {},
   "outputs": [],
   "source": [
    "playing_stats_1 "
   ]
  },
  {
   "cell_type": "code",
   "execution_count": null,
   "id": "2753b065",
   "metadata": {},
   "outputs": [],
   "source": [
    "#Gets the goals agg arranged by teams\n",
    "def get_goals_agg(playing_stats):\n",
    "    #Created a dictionary with the teams as keys and the goals scored as values\n",
    "    teams = {}\n",
    "    for i in playing_stats.groupby('HomeTeam').mean(numeric_only=True).T.columns:\n",
    "        teams[i] = []\n",
    "    for i in range(len(playing_stats)):\n",
    "        teams[playing_stats['HomeTeam'][i]].append(playing_stats['FTHG'][i])\n",
    "        teams[playing_stats['AwayTeam'][i]].append(playing_stats['FTAG'][i])\n",
    "    # Create a dataframe for goals scored where rows are teams and cols are matchweek.\n",
    "    GoalsScored = pd.DataFrame(data=teams, index = [i for i in range(1,39)]).T\n",
    "    GoalsScored[0] = 0\n",
    "    # Aggregate to get uptil that point\n",
    "    for i in range(2,39):\n",
    "        GoalsScored[i] = GoalsScored[i] + GoalsScored[i-1]\n",
    "    return GoalsScored"
   ]
  },
  {
   "cell_type": "code",
   "execution_count": null,
   "id": "d2443c4a",
   "metadata": {},
   "outputs": [],
   "source": [
    "get_goals_agg(playing_stats_1)"
   ]
  },
  {
   "cell_type": "code",
   "execution_count": null,
   "id": "91649807",
   "metadata": {},
   "outputs": [],
   "source": [
    "def check_teams_with_less_than_38_matches(playing_stats):\n",
    "    home_counts = playing_stats['HomeTeam'].value_counts()\n",
    "    away_counts = playing_stats['AwayTeam'].value_counts()\n",
    "    total_matches = home_counts.add(away_counts, fill_value=0)\n",
    "    return total_matches[total_matches < 38]\n",
    "check_teams_with_less_than_38_matches(playing_stats_20)\n"
   ]
  },
  {
   "cell_type": "code",
   "execution_count": null,
   "id": "62e096bc",
   "metadata": {},
   "outputs": [],
   "source": [
    "def get_goals_conceded(playing_stat):\n",
    "    # Create a dictionary with team names as keys\n",
    "    teams = {}\n",
    "    for i in playing_stat.groupby('HomeTeam').mean(numeric_only=True).T.columns:\n",
    "        teams[i] = []\n",
    "    \n",
    "    # the value corresponding to keys is a list containing the match location.\n",
    "    for i in range(len(playing_stat)):\n",
    "        ATGC = playing_stat.iloc[i]['FTHG']\n",
    "        HTGC = playing_stat.iloc[i]['FTAG']\n",
    "        teams[playing_stat.iloc[i].HomeTeam].append(HTGC)\n",
    "        teams[playing_stat.iloc[i].AwayTeam].append(ATGC)\n",
    "    \n",
    "    # Create a dataframe for goals scored where rows are teams and cols are matchweek.\n",
    "    GoalsConceded = pd.DataFrame(data=teams, index = [i for i in range(1,39)]).T\n",
    "    GoalsConceded[0] = 0\n",
    "    # Aggregate to get uptil that point\n",
    "    for i in range(2,39):\n",
    "        GoalsConceded[i] = GoalsConceded[i] + GoalsConceded[i-1]\n",
    "    return GoalsConceded"
   ]
  },
  {
   "cell_type": "code",
   "execution_count": null,
   "id": "c292b403",
   "metadata": {},
   "outputs": [],
   "source": [
    "def get_gss(playing_stat):\n",
    "    GC = get_goals_conceded(playing_stat)\n",
    "    GS = get_goals_agg(playing_stat)\n",
    "   \n",
    "    j = 0\n",
    "    HTGS = []\n",
    "    ATGS = []\n",
    "    HTGC = []\n",
    "    ATGC = []\n",
    "\n",
    "    for i in range(380):\n",
    "        ht = playing_stat.iloc[i].HomeTeam\n",
    "        at = playing_stat.iloc[i].AwayTeam\n",
    "        HTGS.append(GS.loc[ht][j])\n",
    "        ATGS.append(GS.loc[at][j])\n",
    "        HTGC.append(GC.loc[ht][j])\n",
    "        ATGC.append(GC.loc[at][j])\n",
    "        \n",
    "        if ((i + 1)% 10) == 0:\n",
    "            j = j + 1\n",
    "    playing_stat = playing_stat.copy()\n",
    "  \n",
    "    playing_stat['HTGS'] = HTGS\n",
    "    playing_stat['ATGS'] = ATGS\n",
    "    playing_stat['HTGC'] = HTGC\n",
    "    playing_stat['ATGC'] = ATGC\n",
    "    \n",
    "    return playing_stat\n"
   ]
  },
  {
   "cell_type": "code",
   "execution_count": null,
   "id": "5033c1e9",
   "metadata": {},
   "outputs": [],
   "source": [
    "playing_stats_1 = get_gss(playing_stats_1)\n",
    "playing_stats_2 = get_gss(playing_stats_2)\n",
    "playing_stats_3 = get_gss(playing_stats_3)\n",
    "playing_stats_4 = get_gss(playing_stats_4)\n",
    "playing_stats_5 = get_gss(playing_stats_5)\n",
    "playing_stats_6 = get_gss(playing_stats_6)\n",
    "playing_stats_7 = get_gss(playing_stats_7)\n",
    "playing_stats_8 = get_gss(playing_stats_8)\n",
    "playing_stats_9 = get_gss(playing_stats_9)\n",
    "playing_stats_10 = get_gss(playing_stats_10)\n",
    "playing_stats_11 = get_gss(playing_stats_11)\n",
    "playing_stats_12 = get_gss(playing_stats_12)\n",
    "playing_stats_13 = get_gss(playing_stats_13)\n",
    "playing_stats_14 = get_gss(playing_stats_14)\n",
    "playing_stats_15 = get_gss(playing_stats_15)\n",
    "playing_stats_16 = get_gss(playing_stats_16)\n",
    "playing_stats_17 = get_gss(playing_stats_17)\n",
    "playing_stats_18 = get_gss(playing_stats_18)\n",
    "#playing_stats_19 = get_gss(playing_stats_19)\n",
    "#playing_stats_20 = get_gss(playing_stats_20)\n",
    "playing_stats_21 = get_gss(playing_stats_21)\n",
    "playing_stats_22 = get_gss(playing_stats_22)"
   ]
  },
  {
   "cell_type": "code",
   "execution_count": null,
   "id": "6a451e11",
   "metadata": {},
   "outputs": [],
   "source": [
    "playing_stats_1"
   ]
  },
  {
   "cell_type": "code",
   "execution_count": null,
   "id": "e13ac943",
   "metadata": {},
   "outputs": [],
   "source": [
    "def get_points(result):\n",
    "    if result == 'W':\n",
    "        return 3\n",
    "    elif result == 'D':\n",
    "        return 1\n",
    "    else:\n",
    "        return 0"
   ]
  },
  {
   "cell_type": "code",
   "execution_count": null,
   "id": "a090652f",
   "metadata": {},
   "outputs": [],
   "source": [
    "def get_cuml_points(matchres):\n",
    "    matchres_points = matchres.apply(lambda col: col.map(get_points))\n",
    "    \n",
    "    for i in range(2, 39):\n",
    "        matchres_points[i] = matchres_points[i] + matchres_points[i - 1]\n",
    "    \n",
    "    matchres_points.insert(loc=0, column=0, value=[0] * matchres.shape[0])\n",
    "    return matchres_points\n"
   ]
  },
  {
   "cell_type": "code",
   "execution_count": null,
   "id": "350a8bd3",
   "metadata": {},
   "outputs": [],
   "source": [
    "def get_matchres(playing_stat):\n",
    "    # Create a dictionary with team names as keys\n",
    "    teams = {}\n",
    "    for i in playing_stat.groupby('HomeTeam').mean(numeric_only=True).T.columns:\n",
    "        teams[i] = []\n",
    "\n",
    "    # the value corresponding to keys is a list containing the match result\n",
    "    for i in range(len(playing_stat)):\n",
    "        if playing_stat.iloc[i].FTR == 'H':\n",
    "            teams[playing_stat.iloc[i].HomeTeam].append('W')\n",
    "            teams[playing_stat.iloc[i].AwayTeam].append('L')\n",
    "        elif playing_stat.iloc[i].FTR == 'A':\n",
    "            teams[playing_stat.iloc[i].AwayTeam].append('W')\n",
    "            teams[playing_stat.iloc[i].HomeTeam].append('L')\n",
    "        else:\n",
    "            teams[playing_stat.iloc[i].AwayTeam].append('D')\n",
    "            teams[playing_stat.iloc[i].HomeTeam].append('D')\n",
    "            \n",
    "    return pd.DataFrame(data=teams, index = [i for i in range(1,39)]).T"
   ]
  },
  {
   "cell_type": "code",
   "execution_count": null,
   "id": "29a7017b",
   "metadata": {},
   "outputs": [],
   "source": [
    "matchres = get_matchres(playing_stats_1)\n",
    "cum_pts = get_cuml_points(matchres)\n",
    "cum_pts"
   ]
  },
  {
   "cell_type": "code",
   "execution_count": null,
   "id": "0c49b8fa",
   "metadata": {},
   "outputs": [],
   "source": [
    "get_matchres(playing_stats_1)"
   ]
  },
  {
   "cell_type": "code",
   "execution_count": null,
   "id": "be022b92",
   "metadata": {},
   "outputs": [],
   "source": [
    "def get_agg_points(playing_stat):\n",
    "    matchres = get_matchres(playing_stat)\n",
    "    cum_pts = get_cuml_points(matchres)\n",
    "    HTP = []\n",
    "    ATP = []\n",
    "    j = 0\n",
    "    for i in range(380):\n",
    "        ht = playing_stat.iloc[i].HomeTeam\n",
    "        at = playing_stat.iloc[i].AwayTeam\n",
    "        HTP.append(cum_pts.loc[ht][j])\n",
    "        ATP.append(cum_pts.loc[at][j])\n",
    "\n",
    "        if ((i + 1)% 10) == 0:\n",
    "            j = j + 1\n",
    "    playing_stat = playing_stat.copy()\n",
    "    playing_stat['HTP'] = HTP\n",
    "    playing_stat['ATP'] = ATP\n",
    "    return playing_stat"
   ]
  },
  {
   "cell_type": "code",
   "execution_count": null,
   "id": "f1f0e07c",
   "metadata": {},
   "outputs": [],
   "source": [
    "playing_stats_1 = get_agg_points(playing_stats_1)\n",
    "playing_stats_2 = get_agg_points(playing_stats_2)\n",
    "playing_stats_3 = get_agg_points(playing_stats_3)\n",
    "playing_stats_4 = get_agg_points(playing_stats_4)\n",
    "playing_stats_5 = get_agg_points(playing_stats_5)\n",
    "playing_stats_6 = get_agg_points(playing_stats_6)\n",
    "playing_stats_7 = get_agg_points(playing_stats_7)\n",
    "playing_stats_8 = get_agg_points(playing_stats_8)\n",
    "playing_stats_9 = get_agg_points(playing_stats_9)\n",
    "playing_stats_10 = get_agg_points(playing_stats_10)\n",
    "playing_stats_11 = get_agg_points(playing_stats_11)\n",
    "playing_stats_12 = get_agg_points(playing_stats_12)\n",
    "playing_stats_13 = get_agg_points(playing_stats_13)\n",
    "playing_stats_14 = get_agg_points(playing_stats_14)\n",
    "playing_stats_15 = get_agg_points(playing_stats_15)\n",
    "playing_stats_16 = get_agg_points(playing_stats_16)\n",
    "playing_stats_17 = get_agg_points(playing_stats_17)\n",
    "playing_stats_18 = get_agg_points(playing_stats_18)\n",
    "playing_stats_21 =get_agg_points(playing_stats_21)\n",
    "playing_stats_22= get_agg_points(playing_stats_22)"
   ]
  },
  {
   "cell_type": "code",
   "execution_count": null,
   "id": "500e5f86",
   "metadata": {},
   "outputs": [],
   "source": [
    "playing_stats_1"
   ]
  },
  {
   "cell_type": "markdown",
   "id": "dbd02eaf",
   "metadata": {},
   "source": [
    "The function creates a form summary (like \"WWDLD\") for each team by aggregating the results over the last num games before each matchday."
   ]
  },
  {
   "cell_type": "code",
   "execution_count": null,
   "id": "2f4ae190",
   "metadata": {},
   "outputs": [],
   "source": [
    "#`playing_stat`: a DataFrame containing football match stats\n",
    "# `num`: how many previous matchdays to include in the form\n",
    "def get_form(playing_stat, num):\n",
    "    form = get_matchres(playing_stat)\n",
    "    form_final = form.copy()\n",
    "\n",
    "    for i in range(num, 39):\n",
    "        form_final[i] = ['' for _ in range(len(form))]\n",
    "        for j in range(num):\n",
    "            form_final[i] = form_final[i] + form[i - j]\n",
    "\n",
    "    return form_final\n"
   ]
  },
  {
   "cell_type": "code",
   "execution_count": null,
   "id": "ba2cdc39",
   "metadata": {},
   "outputs": [],
   "source": [
    "get_form(playing_stats_1,5)"
   ]
  },
  {
   "cell_type": "markdown",
   "id": "fda57e0c",
   "metadata": {},
   "source": [
    "This function: Adds two new columns to playing_stat:\n",
    "\n",
    "HMn: home team’s form on matchday n (most recent result from last num games)\n",
    "\n",
    "AMn: away team’s form on matchday n (same)"
   ]
  },
  {
   "cell_type": "code",
   "execution_count": null,
   "id": "22b85820",
   "metadata": {},
   "outputs": [],
   "source": [
    "def add_form(playing_stat, num):\n",
    "    # Get the form string (e.g., \"WWL\") for each team\n",
    "    form = get_form(playing_stat, num)\n",
    "    \n",
    "    # Initialize lists to store form result for each match (default 'M' for missing)\n",
    "    num_matches_to_skip = num * 10  # because each matchday has 10 matches\n",
    "    home_form = ['M'] * num_matches_to_skip\n",
    "    away_form = ['M'] * num_matches_to_skip\n",
    "    \n",
    "    # Start from matchday `num` since earlier form isn't available\n",
    "    matchday_index = num\n",
    "\n",
    "    # Loop over all matches starting from where we have enough past data\n",
    "    for i in range(num_matches_to_skip, 380):\n",
    "        home_team = playing_stat.iloc[i]['HomeTeam']\n",
    "        away_team = playing_stat.iloc[i]['AwayTeam']\n",
    "\n",
    "        # Get the recent form string for both teams\n",
    "        home_team_form = form.loc[home_team][matchday_index]\n",
    "        away_team_form = form.loc[away_team][matchday_index]\n",
    "\n",
    "        # Take the most recent result (first character in form string)\n",
    "        home_form.append(home_team_form[0])\n",
    "        away_form.append(away_team_form[0])\n",
    "\n",
    "        # Move to the next matchday after every 10 matches\n",
    "        if (i + 1) % 10 == 0:\n",
    "            matchday_index += 1\n",
    "\n",
    "    # Add new columns to the DataFrame\n",
    "    playing_stat['HM' + str(num)] = home_form\n",
    "    playing_stat['AM' + str(num)] = away_form\n",
    "\n",
    "    return playing_stat\n"
   ]
  },
  {
   "cell_type": "code",
   "execution_count": null,
   "id": "2d595144",
   "metadata": {},
   "outputs": [],
   "source": [
    "add_form(playing_stats_1,1)"
   ]
  },
  {
   "cell_type": "code",
   "execution_count": null,
   "id": "4aacabd6",
   "metadata": {},
   "outputs": [],
   "source": [
    "def add_form_df(playing_statistics):\n",
    "    # Add recent form-based features for 1 to 5 previous matches\n",
    "    for num in range(1, 6): \n",
    "        playing_statistics = add_form(playing_statistics, num)\n",
    "    return playing_statistics\n"
   ]
  },
  {
   "cell_type": "code",
   "execution_count": null,
   "id": "2ab0a943",
   "metadata": {},
   "outputs": [],
   "source": [
    "playing_stats_1 = add_form_df(playing_stats_1)\n",
    "playing_stats_2 = add_form_df(playing_stats_2)\n",
    "playing_stats_3 = add_form_df(playing_stats_3)\n",
    "playing_stats_4 = add_form_df(playing_stats_4)\n",
    "playing_stats_5 = add_form_df(playing_stats_5)\n",
    "playing_stats_6 = add_form_df(playing_stats_6)\n",
    "playing_stats_7 = add_form_df(playing_stats_7)\n",
    "playing_stats_8 = add_form_df(playing_stats_8)\n",
    "playing_stats_9 = add_form_df(playing_stats_9)\n",
    "playing_stats_10 = add_form_df(playing_stats_10)\n",
    "playing_stats_11 = add_form_df(playing_stats_11)\n",
    "playing_stats_12 = add_form_df(playing_stats_12)\n",
    "playing_stats_13 = add_form_df(playing_stats_13)\n",
    "playing_stats_14 = add_form_df(playing_stats_14)\n",
    "playing_stats_15 = add_form_df(playing_stats_15)\n",
    "playing_stats_16 = add_form_df(playing_stats_16)\n",
    "playing_stats_17 = add_form_df(playing_stats_17)\n",
    "playing_stats_18 = add_form_df(playing_stats_18)\n",
    "playing_stats_21 = add_form_df(playing_stats_21)\n",
    "playing_stats_22 = add_form_df(playing_stats_22)\n"
   ]
  },
  {
   "cell_type": "code",
   "execution_count": null,
   "id": "1ab8b81a",
   "metadata": {},
   "outputs": [],
   "source": [
    "playing_stats_1"
   ]
  },
  {
   "cell_type": "code",
   "execution_count": null,
   "id": "b930352c",
   "metadata": {},
   "outputs": [],
   "source": [
    "def get_mw(playing_stat):\n",
    "    j = 1\n",
    "    MatchWeek = []\n",
    "    for i in range(380):\n",
    "        MatchWeek.append(j)\n",
    "        if ((i + 1)% 10) == 0:\n",
    "            j = j + 1\n",
    "    playing_stat['MW'] = MatchWeek\n",
    "    return playing_stat"
   ]
  },
  {
   "cell_type": "code",
   "execution_count": null,
   "id": "4d69767d",
   "metadata": {},
   "outputs": [],
   "source": [
    "get_mw(playing_stats_1)"
   ]
  },
  {
   "cell_type": "code",
   "execution_count": null,
   "id": "34491c3a",
   "metadata": {},
   "outputs": [],
   "source": [
    "cols = ['Date', 'HomeTeam', 'AwayTeam', 'FTHG', 'FTAG', 'FTR', 'HTGS', 'ATGS', 'HTGC', 'ATGC', 'HTP', 'ATP', 'HM1', 'HM2', 'HM3',\n",
    "        'HM4', 'HM5', 'AM1', 'AM2', 'AM3', 'AM4', 'AM5' ]\n",
    "playing_stats_1 = playing_stats_1[cols]\n",
    "playing_stats_1"
   ]
  }
 ],
 "metadata": {
  "kernelspec": {
   "display_name": "base",
   "language": "python",
   "name": "python3"
  },
  "language_info": {
   "codemirror_mode": {
    "name": "ipython",
    "version": 3
   },
   "file_extension": ".py",
   "mimetype": "text/x-python",
   "name": "python",
   "nbconvert_exporter": "python",
   "pygments_lexer": "ipython3",
   "version": "3.12.7"
  }
 },
 "nbformat": 4,
 "nbformat_minor": 5
}
